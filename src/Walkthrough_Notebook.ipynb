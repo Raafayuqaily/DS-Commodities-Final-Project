{
 "cells": [
  {
   "cell_type": "markdown",
   "metadata": {},
   "source": [
    "# Walkthrough Notebook\n",
    "\n",
    " - The main goal of this project is to build an automated engine that reproduces the analytical findings in Table 1 of the study: Investment shocks and the Commodity Basis Spread by Fan Yang. Our team has not only replicated the findings for the time period January 1970 to December 2008, but also has reproduced the same findings from January 2009 to March 2024."
   ]
  },
  {
   "cell_type": "code",
   "execution_count": null,
   "metadata": {},
   "outputs": [],
   "source": [
    "import config\n",
    "from pathlib import Path\n",
    "OUTPUT_DIR = Path(config.OUTPUT_DIR)\n",
    "\n",
    "DATA_DIR = Path(config.DATA_DIR)\n",
    "OUTPUT_DIR = Path(config.OUTPUT_DIR)\n",
    "STARTDATE = config.STARTDATE_OLD\n",
    "ENDDATE = config.ENDDATE_OLD"
   ]
  },
  {
   "cell_type": "code",
   "execution_count": null,
   "metadata": {},
   "outputs": [],
   "source": [
    "import numpy as np\n",
    "import pandas as pd\n",
    "from matplotlib import pyplot as plt"
   ]
  },
  {
   "cell_type": "code",
   "execution_count": null,
   "metadata": {},
   "outputs": [],
   "source": [
    "x = np.linspace(0, 8 * np.pi, 1000)\n",
    "y = np.sin(x)\n",
    "plt.plot(x, y)\n",
    "filepath = Path(OUTPUT_DIR) / 'sine_graph.png'\n",
    "plt.savefig(filepath)"
   ]
  },
  {
   "cell_type": "code",
   "execution_count": null,
   "metadata": {},
   "outputs": [],
   "source": []
  }
 ],
 "metadata": {
  "language_info": {
   "name": "python"
  }
 },
 "nbformat": 4,
 "nbformat_minor": 2
}
